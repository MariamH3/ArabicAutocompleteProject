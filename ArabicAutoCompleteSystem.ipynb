{
 "cells": [
  {
   "cell_type": "markdown",
   "id": "7934554d",
   "metadata": {},
   "source": [
    "# Arabic Auto-Complete System"
   ]
  },
  {
   "cell_type": "markdown",
   "id": "4f0a520f",
   "metadata": {},
   "source": [
    "## Imports"
   ]
  },
  {
   "cell_type": "code",
   "execution_count": 1,
   "id": "d30b3283-8dc9-49c8-b4dd-e29414d96318",
   "metadata": {},
   "outputs": [],
   "source": [
    "import os  \n",
    "import re   \n",
    "from tensorflow.keras.preprocessing.text import Tokenizer\n",
    "from tensorflow.keras.preprocessing.sequence import pad_sequences\n",
    "from tensorflow.keras.utils import to_categorical\n",
    "from tensorflow.keras.models import Sequential, load_model\n",
    "from tensorflow.keras.layers import Embedding, LSTM, Dense, Dropout\n",
    "from tensorflow.keras.callbacks import ModelCheckpoint, EarlyStopping\n",
    "from tensorflow.keras.optimizers import Adam\n",
    "import numpy as np\n",
    "import matplotlib.pyplot as plt\n",
    "import time\n",
    "import pandas as pd\n",
    "from sklearn.model_selection import train_test_split"
   ]
  },
  {
   "cell_type": "markdown",
   "id": "7af9dd4f",
   "metadata": {},
   "source": [
    "## Text Cleaning Function"
   ]
  },
  {
   "cell_type": "code",
   "execution_count": 2,
   "id": "6562b5f0",
   "metadata": {},
   "outputs": [],
   "source": [
    "def clean_arabic_text(text):\n",
    "    # 1. Remove tashkeel including tatweel \n",
    "    text = re.sub(r'[ً-ْـ]', '', text)\n",
    "    \n",
    "    # 2. Remove punctuation and special characters (keeping Arabic letters, numbers, and basic punctuation)\n",
    "    text = re.sub(r'[^\\u0600-\\u06FF\\u0750-\\u077F\\u08A0-\\u08FF\\uFB50-\\uFDFF\\uFE70-\\uFEFF\\s٠-٩۰-۹.,،؛؟!]', ' ', text)\n",
    "\n",
    "    # 3. Normalize Arabic characters\n",
    "    text = re.sub(r'[آأإ]', 'ا', text)  \n",
    "    text = re.sub(r'ى', 'ي', text)     \n",
    "    text = re.sub(r'ة', 'ه', text)     \n",
    "\n",
    "    # 4. Remove English letters and Western digits\n",
    "    text = re.sub(r'[a-zA-Z]', '', text)\n",
    "    text = re.sub(r'[0-9]', '', text)\n",
    "\n",
    "    # 5. Normalize Arabic punctuation to standard ones\n",
    "    text = text.replace('؟', '?')  # Arabic question mark\n",
    "    text = text.replace('،', ',')  # Arabic comma\n",
    "    text = text.replace('؛', ';')  # Arabic semicolon\n",
    "\n",
    "    # 6. Remove extra spaces and newlines\n",
    "    text = re.sub(r'\\s+', ' ', text).strip()\n",
    "\n",
    "    # 7. Remove repeated characters \n",
    "    text = re.sub(r'(.)\\1+', r'\\1', text)\n",
    "\n",
    "    return text\n"
   ]
  },
  {
   "cell_type": "markdown",
   "id": "28953d05",
   "metadata": {},
   "source": [
    "## Data Loading and Cleaning"
   ]
  },
  {
   "cell_type": "code",
   "execution_count": 3,
   "id": "7b2a73fb",
   "metadata": {},
   "outputs": [],
   "source": [
    "file_names = ['file1.txt', 'file2.txt', 'file3.txt', 'file4.txt']  # data files\n",
    "all_clean_lines = []  \n",
    "\n",
    "for file in file_names:\n",
    "    with open(file, 'r', encoding='utf-8') as f:\n",
    "        lines = f.readlines()  \n",
    "        for line in lines:\n",
    "            if 'NULL' in line:\n",
    "                continue  # skip lines with the word NULL\n",
    "            clean_line = clean_arabic_text(line)\n",
    "            if clean_line:  # don't save empty lines\n",
    "                all_clean_lines.append(clean_line)\n"
   ]
  },
  {
   "cell_type": "markdown",
   "id": "0af70ef7",
   "metadata": {},
   "source": [
    "##  Save Cleaned Data\n"
   ]
  },
  {
   "cell_type": "code",
   "execution_count": 4,
   "id": "71f00a62",
   "metadata": {},
   "outputs": [],
   "source": [
    "with open('cleaned_data.txt', 'w', encoding='utf-8') as f:\n",
    "    for line in all_clean_lines:\n",
    "        f.write(line + '\\n')"
   ]
  },
  {
   "cell_type": "markdown",
   "id": "5f022440",
   "metadata": {},
   "source": [
    "## Read the data"
   ]
  },
  {
   "cell_type": "code",
   "execution_count": 5,
   "id": "bde223f6",
   "metadata": {},
   "outputs": [],
   "source": [
    "with open('cleaned_data.txt', 'r', encoding='utf-8') as file:\n",
    "    texts = file.readlines()"
   ]
  },
  {
   "cell_type": "markdown",
   "id": "0eb7b939",
   "metadata": {},
   "source": [
    "## Info about the data"
   ]
  },
  {
   "cell_type": "code",
   "execution_count": 6,
   "id": "9e58bb6d",
   "metadata": {},
   "outputs": [
    {
     "name": "stdout",
     "output_type": "stream",
     "text": [
      "Total texts: 7904\n",
      "Average text length: 5.45 words\n",
      "Min text length: 1 words\n",
      "Max text length: 43 words\n",
      "Total words in dataset: 43071\n",
      "\n",
      "Sample texts:\n",
      "1. اهنئ الدكتور احمد جمال الدين, القيادي بحزب مصر, بمناسبه صدور اولي روايه\n",
      "2. امير عيد هو الي فعلا يتقال عليه ستريكر صريح\n",
      "3. الصداقه تزرع الحياه ازهارا\n"
     ]
    }
   ],
   "source": [
    "analysis = {\n",
    "        'total_texts': len(texts),\n",
    "        'avg_length': sum(len(text.split()) for text in texts) / len(texts),\n",
    "        'min_length': min(len(text.split()) for text in texts),\n",
    "        'max_length': max(len(text.split()) for text in texts),\n",
    "        'total_words': sum(len(text.split()) for text in texts),\n",
    "        'sample_texts': texts[:3]\n",
    "    }\n",
    "    \n",
    "# Word frequency analysis (top 20 most common words)\n",
    "word_freq = {}\n",
    "for text in texts:\n",
    "    for word in text.split():\n",
    "        word_freq[word] = word_freq.get(word, 0) + 1\n",
    "\n",
    "analysis['top_words'] = sorted(word_freq.items(), key=lambda x: x[1], reverse=True)[:20]\n",
    "print(f\"Total texts: {analysis['total_texts']}\")\n",
    "print(f\"Average text length: {analysis['avg_length']:.2f} words\")\n",
    "print(f\"Min text length: {analysis['min_length']} words\")\n",
    "print(f\"Max text length: {analysis['max_length']} words\")\n",
    "print(f\"Total words in dataset: {analysis['total_words']}\")\n",
    "\n",
    "print(\"\\nSample texts:\")\n",
    "for i, text in enumerate(analysis['sample_texts']):\n",
    "    print(f\"{i+1}. {text.strip()}\")"
   ]
  },
  {
   "cell_type": "markdown",
   "id": "3a41cbd7",
   "metadata": {},
   "source": [
    "## Tokenization and Sequence Preparation"
   ]
  },
  {
   "cell_type": "code",
   "execution_count": 7,
   "id": "428e39b3",
   "metadata": {},
   "outputs": [
    {
     "name": "stdout",
     "output_type": "stream",
     "text": [
      "\n",
      "Total unique words: 7868\n"
     ]
    }
   ],
   "source": [
    "tokenizer = Tokenizer()\n",
    "tokenizer.fit_on_texts(texts)\n",
    "total_words = len(tokenizer.word_index) + 1\n",
    "print(f\"\\nTotal unique words: {total_words}\")\n",
    "input_sequences = []\n",
    "for text in texts:\n",
    "    token_list = tokenizer.texts_to_sequences([text])[0]\n",
    "    for i in range(1, len(token_list)):\n",
    "        n_gram_sequence = token_list[:i+1]\n",
    "        input_sequences.append(n_gram_sequence)"
   ]
  },
  {
   "cell_type": "markdown",
   "id": "8119d9c4",
   "metadata": {},
   "source": [
    "## Padding Sequences"
   ]
  },
  {
   "cell_type": "code",
   "execution_count": 8,
   "id": "046419f7",
   "metadata": {},
   "outputs": [
    {
     "name": "stdout",
     "output_type": "stream",
     "text": [
      "\n",
      "Sample padded sequences:\n",
      "[[   0    0    0    0    0    0    0    0    0    0    0    0    0    0\n",
      "     0    0    0    0    0    0    0    0    0    0    0    0    0    0\n",
      "     0    0    0    0    0    0    0    0    0    0    0    0 3117  378]\n",
      " [   0    0    0    0    0    0    0    0    0    0    0    0    0    0\n",
      "     0    0    0    0    0    0    0    0    0    0    0    0    0    0\n",
      "     0    0    0    0    0    0    0    0    0    0    0 3117  378  547]\n",
      " [   0    0    0    0    0    0    0    0    0    0    0    0    0    0\n",
      "     0    0    0    0    0    0    0    0    0    0    0    0    0    0\n",
      "     0    0    0    0    0    0    0    0    0    0 3117  378  547  255]]\n"
     ]
    }
   ],
   "source": [
    "max_sequence_len = max([len(seq) for seq in input_sequences])\n",
    "input_sequences = pad_sequences(input_sequences, maxlen=max_sequence_len, padding='pre')\n",
    "print(\"\\nSample padded sequences:\")\n",
    "print(input_sequences[:3])\n"
   ]
  },
  {
   "cell_type": "markdown",
   "id": "b667f989",
   "metadata": {},
   "source": [
    "## Split Features (X) and Labels (y)"
   ]
  },
  {
   "cell_type": "code",
   "execution_count": 9,
   "id": "945056ca",
   "metadata": {},
   "outputs": [
    {
     "name": "stdout",
     "output_type": "stream",
     "text": [
      "\n",
      "Training data shape: (28064, 41)\n",
      "Validation data shape: (7017, 41)\n"
     ]
    }
   ],
   "source": [
    "X = input_sequences[:, :-1]\n",
    "y = input_sequences[:, -1]\n",
    "y = to_categorical(y, num_classes=total_words)\n",
    "X_train, X_val, y_train, y_val = train_test_split(X, y, test_size=0.2, random_state=42)\n",
    "print(f\"\\nTraining data shape: {X_train.shape}\")\n",
    "print(f\"Validation data shape: {X_val.shape}\")\n",
    "\n",
    "\n"
   ]
  },
  {
   "cell_type": "markdown",
   "id": "51168625",
   "metadata": {},
   "source": [
    "##  Build and Train the Model"
   ]
  },
  {
   "cell_type": "code",
   "execution_count": 10,
   "id": "4a8c4a71",
   "metadata": {
    "scrolled": false
   },
   "outputs": [
    {
     "name": "stderr",
     "output_type": "stream",
     "text": [
      "2025-05-13 06:26:52.127813: I tensorflow/compiler/mlir/mlir_graph_optimization_pass.cc:185] None of the MLIR Optimization Passes are enabled (registered 2)\n"
     ]
    },
    {
     "name": "stdout",
     "output_type": "stream",
     "text": [
      "Epoch 1/30\n",
      "55/55 [==============================] - 138s 2s/step - loss: 8.2930 - accuracy: 0.0281 - val_loss: 7.9377 - val_accuracy: 0.0296\n",
      "Epoch 2/30\n",
      "55/55 [==============================] - 110s 2s/step - loss: 7.6242 - accuracy: 0.0290 - val_loss: 7.8193 - val_accuracy: 0.0288\n",
      "Epoch 3/30\n",
      "55/55 [==============================] - 136s 2s/step - loss: 7.2827 - accuracy: 0.0288 - val_loss: 7.6093 - val_accuracy: 0.0269\n",
      "Epoch 4/30\n",
      "55/55 [==============================] - 127s 2s/step - loss: 6.9069 - accuracy: 0.0326 - val_loss: 7.3598 - val_accuracy: 0.0351\n",
      "Epoch 5/30\n",
      "55/55 [==============================] - 146s 3s/step - loss: 6.4611 - accuracy: 0.0441 - val_loss: 7.0646 - val_accuracy: 0.0463\n",
      "Epoch 6/30\n",
      "55/55 [==============================] - 135s 2s/step - loss: 5.9752 - accuracy: 0.0648 - val_loss: 6.7448 - val_accuracy: 0.0650\n",
      "Epoch 7/30\n",
      "55/55 [==============================] - 135s 2s/step - loss: 5.4887 - accuracy: 0.0923 - val_loss: 6.4144 - val_accuracy: 0.0961\n",
      "Epoch 8/30\n",
      "55/55 [==============================] - 127s 2s/step - loss: 5.0195 - accuracy: 0.1288 - val_loss: 6.0885 - val_accuracy: 0.1337\n",
      "Epoch 9/30\n",
      "55/55 [==============================] - 124s 2s/step - loss: 4.5593 - accuracy: 0.1784 - val_loss: 5.7962 - val_accuracy: 0.1656\n",
      "Epoch 10/30\n",
      "55/55 [==============================] - 123s 2s/step - loss: 4.1354 - accuracy: 0.2306 - val_loss: 5.4979 - val_accuracy: 0.2044\n",
      "Epoch 11/30\n",
      "55/55 [==============================] - 121s 2s/step - loss: 3.7582 - accuracy: 0.2826 - val_loss: 5.2317 - val_accuracy: 0.2512\n",
      "Epoch 12/30\n",
      "55/55 [==============================] - 123s 2s/step - loss: 3.4011 - accuracy: 0.3394 - val_loss: 4.9703 - val_accuracy: 0.2924\n",
      "Epoch 13/30\n",
      "55/55 [==============================] - 120s 2s/step - loss: 3.0802 - accuracy: 0.3879 - val_loss: 4.7439 - val_accuracy: 0.3389\n",
      "Epoch 14/30\n",
      "55/55 [==============================] - 131s 2s/step - loss: 2.8008 - accuracy: 0.4349 - val_loss: 4.5461 - val_accuracy: 0.3831\n",
      "Epoch 15/30\n",
      "55/55 [==============================] - 126s 2s/step - loss: 2.5459 - accuracy: 0.4737 - val_loss: 4.3988 - val_accuracy: 0.4158\n",
      "Epoch 16/30\n",
      "55/55 [==============================] - 116s 2s/step - loss: 2.3412 - accuracy: 0.5092 - val_loss: 4.2739 - val_accuracy: 0.4452\n",
      "Epoch 17/30\n",
      "55/55 [==============================] - 130s 2s/step - loss: 2.1614 - accuracy: 0.5397 - val_loss: 4.1515 - val_accuracy: 0.4680\n",
      "Epoch 18/30\n",
      "55/55 [==============================] - 110s 2s/step - loss: 2.0042 - accuracy: 0.5685 - val_loss: 4.0511 - val_accuracy: 0.4931\n",
      "Epoch 19/30\n",
      "55/55 [==============================] - 120s 2s/step - loss: 1.8668 - accuracy: 0.5923 - val_loss: 3.9845 - val_accuracy: 0.5169\n",
      "Epoch 20/30\n",
      "55/55 [==============================] - 121s 2s/step - loss: 1.7634 - accuracy: 0.6124 - val_loss: 3.9139 - val_accuracy: 0.5350\n",
      "Epoch 21/30\n",
      "55/55 [==============================] - 113s 2s/step - loss: 1.6562 - accuracy: 0.6334 - val_loss: 3.8390 - val_accuracy: 0.5495\n",
      "Epoch 22/30\n",
      "55/55 [==============================] - 120s 2s/step - loss: 1.5529 - accuracy: 0.6499 - val_loss: 3.8071 - val_accuracy: 0.5636\n",
      "Epoch 23/30\n",
      "55/55 [==============================] - 122s 2s/step - loss: 1.4725 - accuracy: 0.6642 - val_loss: 3.7529 - val_accuracy: 0.5703\n",
      "Epoch 24/30\n",
      "55/55 [==============================] - 126s 2s/step - loss: 1.4174 - accuracy: 0.6747 - val_loss: 3.7219 - val_accuracy: 0.5889\n",
      "Epoch 25/30\n",
      "55/55 [==============================] - 128s 2s/step - loss: 1.3494 - accuracy: 0.6864 - val_loss: 3.7006 - val_accuracy: 0.6003\n",
      "Epoch 26/30\n",
      "55/55 [==============================] - 380s 7s/step - loss: 1.2844 - accuracy: 0.7007 - val_loss: 3.6751 - val_accuracy: 0.6088\n",
      "Epoch 27/30\n",
      "55/55 [==============================] - 114s 2s/step - loss: 1.2415 - accuracy: 0.7057 - val_loss: 3.6442 - val_accuracy: 0.6109\n",
      "Epoch 28/30\n",
      "55/55 [==============================] - 164s 3s/step - loss: 1.1876 - accuracy: 0.7163 - val_loss: 3.6308 - val_accuracy: 0.6208\n",
      "Epoch 29/30\n",
      "55/55 [==============================] - 126s 2s/step - loss: 1.1422 - accuracy: 0.7272 - val_loss: 3.6058 - val_accuracy: 0.6286\n",
      "Epoch 30/30\n",
      "55/55 [==============================] - 137s 2s/step - loss: 1.1112 - accuracy: 0.7341 - val_loss: 3.6136 - val_accuracy: 0.6370\n"
     ]
    }
   ],
   "source": [
    "model = Sequential()\n",
    "model.add(Embedding(input_dim=total_words, output_dim=100, input_length=max_sequence_len - 1))\n",
    "model.add(LSTM(128, return_sequences=True))\n",
    "model.add(Dropout(0.2))\n",
    "model.add(LSTM(128))\n",
    "model.add(Dropout(0.2))\n",
    "model.add(Dense(total_words, activation='softmax'))\n",
    "\n",
    "# Compile the model\n",
    "model.compile(\n",
    "    loss='categorical_crossentropy', \n",
    "    optimizer=Adam(learning_rate=0.01), \n",
    "    metrics=['accuracy']\n",
    ")\n",
    "    \n",
    "\n",
    "# Train the model\n",
    "history = model.fit(X_train, y_train,\n",
    "        epochs=30,\n",
    "      batch_size=512,\n",
    "      validation_data=(X_val, y_val),\n",
    "        verbose=1)\n",
    "\n"
   ]
  },
  {
   "cell_type": "markdown",
   "id": "a39374ee",
   "metadata": {},
   "source": [
    "## Model Evaluation"
   ]
  },
  {
   "cell_type": "code",
   "execution_count": 11,
   "id": "6343096c",
   "metadata": {},
   "outputs": [
    {
     "data": {
      "image/png": "[encoded data removed]",
      "text/plain": [
       "<Figure size 1200x500 with 2 Axes>"
      ]
     },
     "metadata": {},
     "output_type": "display_data"
    }
   ],
   "source": [
    "evaluation = {\n",
    "    'final_train_accuracy': history.history['accuracy'][-1],\n",
    "    'final_val_accuracy': history.history['val_accuracy'][-1],\n",
    "    'final_train_loss': history.history['loss'][-1],\n",
    "    'final_val_loss': history.history['val_loss'][-1],\n",
    "    'best_val_accuracy': max(history.history['val_accuracy']),\n",
    "    'best_epoch': history.history['val_accuracy'].index(max(history.history['val_accuracy'])) + 1\n",
    "}\n",
    "\n",
    "# Plot accuracy\n",
    "plt.figure(figsize=(12, 5))\n",
    "plt.subplot(1, 2, 1)\n",
    "plt.plot(history.history['accuracy'], label='Training Accuracy')\n",
    "plt.plot(history.history['val_accuracy'], label='Validation Accuracy')\n",
    "plt.title('Model Accuracy')\n",
    "plt.ylabel('Accuracy')\n",
    "plt.xlabel('Epoch')\n",
    "plt.legend()\n",
    "\n",
    "# Plot loss\n",
    "plt.subplot(1, 2, 2)\n",
    "plt.plot(history.history['loss'], label='Training Loss')\n",
    "plt.plot(history.history['val_loss'], label='Validation Loss')\n",
    "plt.title('Model Loss')\n",
    "plt.ylabel('Loss')\n",
    "plt.xlabel('Epoch')\n",
    "plt.legend()\n",
    "\n",
    "plt.tight_layout()\n",
    "plt.savefig('model_performance.png')\n",
    "plt.show()"
   ]
  },
  {
   "cell_type": "markdown",
   "id": "075c64f3",
   "metadata": {},
   "source": [
    "## Save the model"
   ]
  },
  {
   "cell_type": "code",
   "execution_count": 12,
   "id": "d70e0cef",
   "metadata": {},
   "outputs": [
    {
     "name": "stdout",
     "output_type": "stream",
     "text": [
      "Model saved to: arabic_autocomplete_model.h5\n",
      "Tokenizer saved to: arabic_tokenizer.npy\n",
      "Model configuration saved to: model_config.npy\n"
     ]
    }
   ],
   "source": [
    "def save_model_and_tokenizer(model, tokenizer, model_path='arabic_autocomplete_model.h5', tokenizer_path='arabic_tokenizer.npy'):\n",
    "    model.save(model_path)\n",
    "    print(f\"Model saved to: {model_path}\")\n",
    "    \n",
    "    # Save the tokenizer - using numpy to save dictionary\n",
    "    tokenizer_json = tokenizer.to_json()\n",
    "    with open(tokenizer_path, 'w', encoding='utf-8') as f:\n",
    "        f.write(tokenizer_json)\n",
    "    print(f\"Tokenizer saved to: {tokenizer_path}\")\n",
    "    \n",
    "    # Save model configuration for future reference\n",
    "    model_config = {\n",
    "        'max_sequence_len': max_sequence_len,\n",
    "        'total_words': total_words,\n",
    "        'embedding_dim': 100,\n",
    "        'lstm_units': 128,\n",
    "        'dropout_rate': 0.2\n",
    "    }\n",
    "    \n",
    "    np.save('model_config.npy', model_config)\n",
    "    print(\"Model configuration saved to: model_config.npy\")\n",
    "\n",
    "save_model_and_tokenizer(model, tokenizer)"
   ]
  },
  {
   "cell_type": "markdown",
   "id": "a3f8817d",
   "metadata": {},
   "source": [
    "## Load the model"
   ]
  },
  {
   "cell_type": "code",
   "execution_count": 13,
   "id": "2cc0bbe7",
   "metadata": {},
   "outputs": [
    {
     "name": "stdout",
     "output_type": "stream",
     "text": [
      "Model loaded from: arabic_autocomplete_model.h5\n",
      "Tokenizer loaded from: arabic_tokenizer.npy\n",
      "Model configuration loaded\n"
     ]
    }
   ],
   "source": [
    "def load_model_and_tokenizer(model_path='arabic_autocomplete_model.h5', tokenizer_path='arabic_tokenizer.npy', config_path='model_config.npy'):\n",
    "    from tensorflow.keras.models import load_model\n",
    "    from tensorflow.keras.preprocessing.text import tokenizer_from_json\n",
    "    import numpy as np\n",
    "    # Load the model\n",
    "    model = load_model(model_path)\n",
    "    print(f\"Model loaded from: {model_path}\")\n",
    "    \n",
    "    # Load the tokenizer\n",
    "    with open(tokenizer_path, 'r', encoding='utf-8') as f:\n",
    "        tokenizer_json = f.read()\n",
    "    tokenizer = tokenizer_from_json(tokenizer_json)\n",
    "    print(f\"Tokenizer loaded from: {tokenizer_path}\")\n",
    "    \n",
    "    # Load model configuration\n",
    "    model_config = np.load(config_path, allow_pickle=True).item()\n",
    "    print(\"Model configuration loaded\")\n",
    "    \n",
    "    return model, tokenizer, model_config\n",
    "model, tokenizer, model_config=load_model_and_tokenizer()"
   ]
  },
  {
   "cell_type": "markdown",
   "id": "547b9efd",
   "metadata": {},
   "source": [
    "##  Predection Function"
   ]
  },
  {
   "cell_type": "code",
   "execution_count": 14,
   "id": "c32099ee-7f5b-4aff-82b7-8cd80a05a5b2",
   "metadata": {},
   "outputs": [
    {
     "name": "stdout",
     "output_type": "stream",
     "text": [
      "النص الناتج: دي اخلاق السلف\n"
     ]
    }
   ],
   "source": [
    "def predict_sequence(model, tokenizer, start_word, next_words, max_len):\n",
    "    result = start_word\n",
    "    for _ in range(next_words):\n",
    "        token_list = tokenizer.texts_to_sequences([result])[0]\n",
    "        token_list = pad_sequences([token_list], maxlen=max_len-1, padding='pre')\n",
    "        predicted = np.argmax(model.predict(token_list, verbose=0), axis=-1)[0]\n",
    "        for word, index in tokenizer.word_index.items():\n",
    "            if index == predicted:\n",
    "                result += \" \" + word\n",
    "                break\n",
    "    return result\n",
    "\n",
    "# Try an example\n",
    "start_word = \"دي\"\n",
    "next_words = 2\n",
    "generated_text = predict_sequence(model, tokenizer, start_word, next_words, max_sequence_len)\n",
    "print(\"النص الناتج:\", generated_text)"
   ]
  },
  {
   "cell_type": "markdown",
   "id": "58227beb",
   "metadata": {},
   "source": [
    "##  Arabic Complete system's GUI"
   ]
  },
  {
   "cell_type": "code",
   "execution_count": null,
   "id": "72d61413",
   "metadata": {},
   "outputs": [],
   "source": [
    "import tkinter as tk\n",
    "from tkinter import ttk, scrolledtext\n",
    "import numpy as np\n",
    "from PIL import Image, ImageTk\n",
    "import os\n",
    "import re\n",
    "from tensorflow.keras.preprocessing.sequence import pad_sequences  \n",
    "\n",
    "PRIMARY_COLOR = \"#2196F3\"\n",
    "SECONDARY_COLOR = \"#FFC107\"\n",
    "BG_COLOR = \"#F5F5F5\"\n",
    "TEXT_COLOR = \"#212121\"\n",
    "ACCENT_COLOR = \"#E3F2FD\"\n",
    "\n",
    "HEADER_FONT = (\"Segoe UI\", 24, \"bold\")\n",
    "LABEL_FONT = (\"Segoe UI\", 12)\n",
    "BUTTON_FONT = (\"Segoe UI\", 12, \"bold\")\n",
    "TEXT_FONT = (\"Segoe UI\", 12)\n",
    "\n",
    "class ArabicAutocompleteGUI:\n",
    "    def __init__(self, root):\n",
    "        self.root = root\n",
    "      \n",
    "        \n",
    "        self.root.title(\"نظام الإكمال التلقائي للغة العربية\")\n",
    "        self.root.geometry(\"800x600\")\n",
    "        self.root.configure(bg=BG_COLOR)\n",
    "        \n",
    "        self.main_frame = tk.Frame(self.root, bg=BG_COLOR)\n",
    "        self.main_frame.pack(fill=tk.BOTH, expand=True, padx=20, pady=20)\n",
    "        \n",
    "        self.setup_ui()\n",
    "        \n",
    "    def setup_ui(self):\n",
    "        header_frame = tk.Frame(self.main_frame, bg=PRIMARY_COLOR, height=60)\n",
    "        header_frame.pack(fill=tk.X, pady=(0, 20))\n",
    "        \n",
    "        header_label = tk.Label(\n",
    "            header_frame, \n",
    "            text=\"نظام الإكمال التلقائي للغة العربية\", \n",
    "            font=HEADER_FONT, \n",
    "            bg=PRIMARY_COLOR, \n",
    "            fg=\"white\",\n",
    "            pady=10\n",
    "        )\n",
    "        header_label.pack()\n",
    "        \n",
    "        input_frame = tk.Frame(self.main_frame, bg=BG_COLOR)\n",
    "        input_frame.pack(fill=tk.X, pady=10)\n",
    "\n",
    "        input_label = tk.Label(\n",
    "            input_frame, \n",
    "            text=\"أدخل النص:\", \n",
    "            font=LABEL_FONT, \n",
    "            bg=BG_COLOR, \n",
    "            fg=TEXT_COLOR,\n",
    "            anchor=\"e\"\n",
    "        )\n",
    "        input_label.pack(anchor=\"e\", padx=5, pady=5)\n",
    "\n",
    "        self.input_text = tk.Entry(\n",
    "            input_frame, \n",
    "            font=TEXT_FONT, \n",
    "            bg=\"white\", \n",
    "            fg=TEXT_COLOR,\n",
    "            bd=1,\n",
    "            relief=tk.SOLID,\n",
    "            justify=\"right\"\n",
    "        )\n",
    "        self.input_text.pack(fill=tk.X, padx=10, pady=5, ipadx=15, ipady=8)\n",
    "        \n",
    "        options_frame = tk.Frame(self.main_frame, bg=BG_COLOR)\n",
    "        options_frame.pack(fill=tk.X, pady=10)\n",
    "        \n",
    "        words_label = tk.Label(\n",
    "            options_frame, \n",
    "            text=\"عدد الكلمات للتنبؤ:\", \n",
    "            font=LABEL_FONT, \n",
    "            bg=BG_COLOR, \n",
    "            fg=TEXT_COLOR\n",
    "        )\n",
    "        words_label.pack(side=tk.RIGHT, padx=5)\n",
    "        \n",
    "        self.words_var = tk.StringVar(value=\"5\")\n",
    "        words_spinner = tk.Spinbox(\n",
    "            options_frame, \n",
    "            from_=1, \n",
    "            to=10, \n",
    "            textvariable=self.words_var,\n",
    "            width=5,\n",
    "            font=TEXT_FONT\n",
    "        )\n",
    "        words_spinner.pack(side=tk.RIGHT, padx=5)\n",
    "        \n",
    "        generate_button = tk.Button(\n",
    "            options_frame, \n",
    "            text=\"توليد النص\", \n",
    "            font=BUTTON_FONT, \n",
    "            bg=SECONDARY_COLOR, \n",
    "            fg=TEXT_COLOR,\n",
    "            padx=15,\n",
    "            pady=5,\n",
    "            relief=tk.RAISED,\n",
    "            command=self.generate_text\n",
    "        )\n",
    "        generate_button.pack(side=tk.LEFT, padx=5)\n",
    "        \n",
    "        clear_button = tk.Button(\n",
    "            options_frame, \n",
    "            text=\"مسح\", \n",
    "            font=BUTTON_FONT, \n",
    "            bg=PRIMARY_COLOR, \n",
    "            fg=\"white\",\n",
    "            padx=15,\n",
    "            pady=5,\n",
    "            relief=tk.RAISED,\n",
    "            command=self.clear_text\n",
    "        )\n",
    "        clear_button.pack(side=tk.LEFT, padx=5)\n",
    "        \n",
    "        results_frame = tk.Frame(self.main_frame, bg=ACCENT_COLOR, bd=1, relief=tk.SOLID)\n",
    "        results_frame.pack(fill=tk.BOTH, expand=True, pady=10)\n",
    "        \n",
    "        results_label = tk.Label(\n",
    "            results_frame, \n",
    "            text=\"النص الناتج:\", \n",
    "            font=LABEL_FONT, \n",
    "            bg=ACCENT_COLOR, \n",
    "            fg=TEXT_COLOR,\n",
    "            anchor=\"e\"\n",
    "        )\n",
    "        results_label.pack(anchor=\"e\", padx=10, pady=5)\n",
    "        \n",
    "        self.results_text = scrolledtext.ScrolledText(\n",
    "            results_frame, \n",
    "            font=TEXT_FONT, \n",
    "            bg=\"white\", \n",
    "            fg=TEXT_COLOR,\n",
    "            wrap=tk.WORD,\n",
    "            height=10\n",
    "        )\n",
    "        self.results_text.pack(fill=tk.BOTH, expand=True, padx=10, pady=(0, 10))\n",
    "        self.results_text.tag_configure(\"rtl\", justify=\"right\")\n",
    "        \n",
    "    def generate_text(self):\n",
    "        start_word = self.input_text.get().strip()\n",
    "        if not start_word:\n",
    "            return\n",
    "        \n",
    "        try:\n",
    "            next_words = int(self.words_var.get())\n",
    "            if next_words < 1:\n",
    "                next_words = 1\n",
    "            elif next_words > 20:\n",
    "                next_words = 20\n",
    "        except ValueError:\n",
    "            next_words = 5\n",
    "            self.words_var.set(\"5\")\n",
    "        \n",
    "        try:\n",
    "            generated_text = predict_sequence(model, tokenizer, start_word, next_words, max_sequence_len)\n",
    "            self.results_text.delete(1.0, tk.END)\n",
    "            self.results_text.insert(tk.END, generated_text, \"rtl\")\n",
    "        except Exception as e:\n",
    "            print(\"Error:\", e)  \n",
    "    \n",
    "    def clear_text(self):\n",
    "        self.input_text.delete(0, tk.END)\n",
    "        self.results_text.delete(1.0, tk.END)\n",
    "    \n",
    "    \n",
    "\n",
    "\n",
    "root = tk.Tk()\n",
    "app = ArabicAutocompleteGUI(root)\n",
    "root.mainloop()"
   ]
  },
  {
   "cell_type": "code",
   "execution_count": null,
   "id": "58d3f8b2",
   "metadata": {},
   "outputs": [],
   "source": []
  }
 ],
 "metadata": {
  "kernelspec": {
   "display_name": "Python 3 (ipykernel)",
   "language": "python",
   "name": "python3"
  },
  "language_info": {
   "codemirror_mode": {
    "name": "ipython",
    "version": 3
   },
   "file_extension": ".py",
   "mimetype": "text/x-python",
   "name": "python",
   "nbconvert_exporter": "python",
   "pygments_lexer": "ipython3",
   "version": "3.7.0"
  }
 },
 "nbformat": 4,
 "nbformat_minor": 5
}
