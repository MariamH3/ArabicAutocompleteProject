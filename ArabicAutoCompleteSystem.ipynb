{
 "cells": [
  {
   "cell_type": "markdown",
   "id": "7934554d",
   "metadata": {},
   "source": [
    "# Arabic Auto-Complete System"
   ]
  },
  {
   "cell_type": "markdown",
   "id": "4f0a520f",
   "metadata": {},
   "source": [
    "## Imports"
   ]
  },
  {
   "cell_type": "code",
   "execution_count": 1,
   "id": "14698e34",
   "metadata": {},
   "outputs": [],
   "source": [
    "import os  \n",
    "import re   \n",
    "from tensorflow.keras.preprocessing.text import Tokenizer\n",
    "from tensorflow.keras.preprocessing.sequence import pad_sequences\n",
    "from tensorflow.keras.utils import to_categorical\n",
    "import re"
   ]
  },
  {
   "cell_type": "markdown",
   "id": "7af9dd4f",
   "metadata": {},
   "source": [
    "## Text Cleaning Function"
   ]
  },
  {
   "cell_type": "code",
   "execution_count": 2,
   "id": "6562b5f0",
   "metadata": {},
   "outputs": [],
   "source": [
    "import re\n",
    "\n",
    "def clean_arabic_text(text):\n",
    "    # 1. Remove tashkeel including tatweel \n",
    "    text = re.sub(r'[ً-ْـ]', '', text)\n",
    "    \n",
    "    # 2. Remove punctuation and special characters (keeping Arabic letters, numbers, and basic punctuation)\n",
    "    text = re.sub(r'[^\\u0600-\\u06FF\\u0750-\\u077F\\u08A0-\\u08FF\\uFB50-\\uFDFF\\uFE70-\\uFEFF\\s٠-٩۰-۹.,،؛؟!]', ' ', text)\n",
    "\n",
    "    # 3. Normalize Arabic characters\n",
    "    text = re.sub(r'[آأإ]', 'ا', text)  \n",
    "    text = re.sub(r'ى', 'ي', text)     \n",
    "    text = re.sub(r'ة', 'ه', text)     \n",
    "\n",
    "    # 4. Remove English letters and Western digits\n",
    "    text = re.sub(r'[a-zA-Z]', '', text)\n",
    "    text = re.sub(r'[0-9]', '', text)\n",
    "\n",
    "    # 5. Normalize Arabic punctuation to standard ones\n",
    "    text = text.replace('؟', '?')  # Arabic question mark\n",
    "    text = text.replace('،', ',')  # Arabic comma\n",
    "    text = text.replace('؛', ';')  # Arabic semicolon\n",
    "\n",
    "    # 6. Remove extra spaces and newlines\n",
    "    text = re.sub(r'\\s+', ' ', text).strip()\n",
    "\n",
    "    # 7. Remove repeated characters \n",
    "    text = re.sub(r'(.)\\1+', r'\\1', text)\n",
    "\n",
    "    return text\n"
   ]
  },
  {
   "cell_type": "markdown",
   "id": "28953d05",
   "metadata": {},
   "source": [
    "## Data Loading and Cleaning"
   ]
  },
  {
   "cell_type": "code",
   "execution_count": 3,
   "id": "7b2a73fb",
   "metadata": {},
   "outputs": [],
   "source": [
    "file_names = ['file1.txt', 'file2.txt', 'file3.txt', 'file4.txt']  # data files\n",
    "all_clean_lines = []  \n",
    "\n",
    "for file in file_names:\n",
    "    with open(file, 'r', encoding='utf-8') as f:\n",
    "        lines = f.readlines()  \n",
    "        for line in lines:\n",
    "            if 'NULL' in line:\n",
    "                continue  # skip lines with the word NULL\n",
    "            clean_line = clean_arabic_text(line)\n",
    "            if clean_line:  # don't save empty lines\n",
    "                all_clean_lines.append(clean_line)\n"
   ]
  },
  {
   "cell_type": "markdown",
   "id": "0af70ef7",
   "metadata": {},
   "source": [
    "##  Save Cleaned Data\n"
   ]
  },
  {
   "cell_type": "code",
   "execution_count": 4,
   "id": "71f00a62",
   "metadata": {},
   "outputs": [],
   "source": [
    "with open('cleaned_data.txt', 'w', encoding='utf-8') as f:\n",
    "    for line in all_clean_lines:\n",
    "        f.write(line + '\\n')"
   ]
  },
  {
   "cell_type": "markdown",
   "id": "5f022440",
   "metadata": {},
   "source": [
    "## Read the data"
   ]
  },
  {
   "cell_type": "code",
   "execution_count": 5,
   "id": "bde223f6",
   "metadata": {},
   "outputs": [],
   "source": [
    "with open('cleaned_data.txt', 'r', encoding='utf-8') as file:\n",
    "    texts = file.readlines()"
   ]
  },
  {
   "cell_type": "markdown",
   "id": "0eb7b939",
   "metadata": {},
   "source": [
    "## Info about the data"
   ]
  },
  {
   "cell_type": "code",
   "execution_count": 6,
   "id": "9e58bb6d",
   "metadata": {},
   "outputs": [
    {
     "name": "stdout",
     "output_type": "stream",
     "text": [
      "Total texts: 8367\n",
      "Sample texts:\n",
      "1. اهنئ الدكتور احمد جمال الدين, القيادي بحزب مصر, بمناسبه صدور اولي روايه\n",
      "2. امير عيد هو الي فعلا يتقال عليه ستريكر صريح\n",
      "3. الصداقه تزرع الحياه ازهارا\n"
     ]
    }
   ],
   "source": [
    "print(f\"Total texts: {len(texts)}\")\n",
    "print(\"Sample texts:\")\n",
    "for i in range(3):\n",
    "    print(f\"{i+1}. {texts[i].strip()}\")"
   ]
  },
  {
   "cell_type": "markdown",
   "id": "3a41cbd7",
   "metadata": {},
   "source": [
    "## Tokenization and Sequence Preparation"
   ]
  },
  {
   "cell_type": "code",
   "execution_count": 7,
   "id": "428e39b3",
   "metadata": {},
   "outputs": [
    {
     "name": "stdout",
     "output_type": "stream",
     "text": [
      "\n",
      "Total unique words: 12415\n"
     ]
    }
   ],
   "source": [
    "tokenizer = Tokenizer()\n",
    "tokenizer.fit_on_texts(texts)\n",
    "total_words = len(tokenizer.word_index) + 1\n",
    "print(f\"\\nTotal unique words: {total_words}\")\n",
    "input_sequences = []\n",
    "for text in texts:\n",
    "    token_list = tokenizer.texts_to_sequences([text])[0]\n",
    "    for i in range(1, len(token_list)):\n",
    "        n_gram_sequence = token_list[:i+1]\n",
    "        input_sequences.append(n_gram_sequence)"
   ]
  },
  {
   "cell_type": "markdown",
   "id": "8119d9c4",
   "metadata": {},
   "source": [
    "## Padding Sequences"
   ]
  },
  {
   "cell_type": "code",
   "execution_count": 8,
   "id": "046419f7",
   "metadata": {},
   "outputs": [
    {
     "name": "stdout",
     "output_type": "stream",
     "text": [
      "\n",
      "Sample padded sequences:\n",
      "[[   0    0    0    0    0    0    0    0    0    0    0    0    0    0\n",
      "     0    0    0    0    0    0    0    0    0    0    0    0    0    0\n",
      "     0    0    0    0    0    0    0    0    0    0    0    0 4112  471]\n",
      " [   0    0    0    0    0    0    0    0    0    0    0    0    0    0\n",
      "     0    0    0    0    0    0    0    0    0    0    0    0    0    0\n",
      "     0    0    0    0    0    0    0    0    0    0    0 4112  471  692]\n",
      " [   0    0    0    0    0    0    0    0    0    0    0    0    0    0\n",
      "     0    0    0    0    0    0    0    0    0    0    0    0    0    0\n",
      "     0    0    0    0    0    0    0    0    0    0 4112  471  692  306]]\n"
     ]
    }
   ],
   "source": [
    "max_sequence_len = max([len(seq) for seq in input_sequences])\n",
    "input_sequences = pad_sequences(input_sequences, maxlen=max_sequence_len, padding='pre')\n",
    "print(\"\\nSample padded sequences:\")\n",
    "print(input_sequences[:3])\n"
   ]
  },
  {
   "cell_type": "markdown",
   "id": "b667f989",
   "metadata": {},
   "source": [
    "## Split Features (X) and Labels (y)"
   ]
  },
  {
   "cell_type": "code",
   "execution_count": 9,
   "id": "945056ca",
   "metadata": {},
   "outputs": [],
   "source": [
    "X = input_sequences[:, :-1]\n",
    "y = input_sequences[:, -1]\n",
    "y = to_categorical(y, num_classes=total_words)\n"
   ]
  },
  {
   "cell_type": "markdown",
   "id": "51168625",
   "metadata": {},
   "source": [
    "##  Build and Train the Model"
   ]
  },
  {
   "cell_type": "code",
   "execution_count": 10,
   "id": "4a8c4a71",
   "metadata": {
    "scrolled": true
   },
   "outputs": [
    {
     "name": "stdout",
     "output_type": "stream",
     "text": [
      "Model: \"sequential\"\n",
      "_________________________________________________________________\n",
      "Layer (type)                 Output Shape              Param #   \n",
      "=================================================================\n",
      "embedding (Embedding)        (None, 41, 64)            794560    \n",
      "_________________________________________________________________\n",
      "lstm (LSTM)                  (None, 150)               129000    \n",
      "_________________________________________________________________\n",
      "dense (Dense)                (None, 12415)             1874665   \n",
      "=================================================================\n",
      "Total params: 2,798,225\n",
      "Trainable params: 2,798,225\n",
      "Non-trainable params: 0\n",
      "_________________________________________________________________\n"
     ]
    },
    {
     "name": "stderr",
     "output_type": "stream",
     "text": [
      "2025-04-25 14:04:58.869297: I tensorflow/compiler/mlir/mlir_graph_optimization_pass.cc:185] None of the MLIR Optimization Passes are enabled (registered 2)\n"
     ]
    },
    {
     "name": "stdout",
     "output_type": "stream",
     "text": [
      "Epoch 1/30\n",
      "703/703 [==============================] - 74s 102ms/step - loss: 8.6459 - accuracy: 0.0254\n",
      "Epoch 2/30\n",
      "703/703 [==============================] - 77s 109ms/step - loss: 7.8894 - accuracy: 0.0302\n",
      "Epoch 3/30\n",
      "703/703 [==============================] - 81s 115ms/step - loss: 7.4669 - accuracy: 0.0328\n",
      "Epoch 4/30\n",
      "703/703 [==============================] - 83s 118ms/step - loss: 6.9200 - accuracy: 0.0467\n",
      "Epoch 5/30\n",
      "703/703 [==============================] - 86s 122ms/step - loss: 6.2581 - accuracy: 0.0735\n",
      "Epoch 6/30\n",
      "703/703 [==============================] - 93s 132ms/step - loss: 5.5687 - accuracy: 0.1173\n",
      "Epoch 7/30\n",
      "703/703 [==============================] - 95s 135ms/step - loss: 4.9123 - accuracy: 0.1764\n",
      "Epoch 8/30\n",
      "703/703 [==============================] - 105s 149ms/step - loss: 4.3078 - accuracy: 0.2474\n",
      "Epoch 9/30\n",
      "703/703 [==============================] - 103s 146ms/step - loss: 3.7550 - accuracy: 0.3442\n",
      "Epoch 10/30\n",
      "703/703 [==============================] - 111s 158ms/step - loss: 3.2613 - accuracy: 0.4351\n",
      "Epoch 11/30\n",
      "703/703 [==============================] - 119s 169ms/step - loss: 2.8176 - accuracy: 0.5156\n",
      "Epoch 12/30\n",
      "703/703 [==============================] - 109s 155ms/step - loss: 2.4319 - accuracy: 0.5815\n",
      "Epoch 13/30\n",
      "703/703 [==============================] - 110s 156ms/step - loss: 2.1016 - accuracy: 0.6345\n",
      "Epoch 14/30\n",
      "703/703 [==============================] - 113s 160ms/step - loss: 1.8237 - accuracy: 0.6840\n",
      "Epoch 15/30\n",
      "703/703 [==============================] - 114s 162ms/step - loss: 1.5848 - accuracy: 0.7204\n",
      "Epoch 16/30\n",
      "703/703 [==============================] - 111s 158ms/step - loss: 1.3823 - accuracy: 0.7538\n",
      "Epoch 17/30\n",
      "703/703 [==============================] - 92s 131ms/step - loss: 1.2065 - accuracy: 0.7846\n",
      "Epoch 18/30\n",
      "703/703 [==============================] - 93s 132ms/step - loss: 1.0567 - accuracy: 0.8073\n",
      "Epoch 19/30\n",
      "703/703 [==============================] - 96s 137ms/step - loss: 0.9295 - accuracy: 0.8303\n",
      "Epoch 20/30\n",
      "703/703 [==============================] - 105s 149ms/step - loss: 0.8231 - accuracy: 0.8458\n",
      "Epoch 21/30\n",
      "703/703 [==============================] - 107s 152ms/step - loss: 0.7335 - accuracy: 0.8574\n",
      "Epoch 22/30\n",
      "703/703 [==============================] - 109s 155ms/step - loss: 0.6593 - accuracy: 0.8672\n",
      "Epoch 23/30\n",
      "703/703 [==============================] - 112s 160ms/step - loss: 0.5978 - accuracy: 0.8741\n",
      "Epoch 24/30\n",
      "703/703 [==============================] - 112s 160ms/step - loss: 0.5470 - accuracy: 0.8799\n",
      "Epoch 25/30\n",
      "703/703 [==============================] - 114s 162ms/step - loss: 0.5063 - accuracy: 0.8807\n",
      "Epoch 26/30\n",
      "703/703 [==============================] - 115s 163ms/step - loss: 0.4757 - accuracy: 0.8843\n",
      "Epoch 27/30\n",
      "703/703 [==============================] - 118s 167ms/step - loss: 0.4477 - accuracy: 0.8865\n",
      "Epoch 28/30\n",
      "703/703 [==============================] - 121s 172ms/step - loss: 0.4278 - accuracy: 0.8878\n",
      "Epoch 29/30\n",
      "703/703 [==============================] - 122s 174ms/step - loss: 0.4121 - accuracy: 0.8876\n",
      "Epoch 30/30\n",
      "703/703 [==============================] - 123s 176ms/step - loss: 0.4013 - accuracy: 0.8859\n"
     ]
    }
   ],
   "source": [
    "from tensorflow.keras.models import Sequential\n",
    "from tensorflow.keras.layers import Embedding, LSTM, Dense\n",
    "from tensorflow.keras.optimizers import Adam\n",
    "\n",
    "# Build the model\n",
    "model = Sequential()\n",
    "model.add(Embedding(input_dim=total_words, output_dim=64, input_length=max_sequence_len - 1))\n",
    "model.add(LSTM(150))\n",
    "model.add(Dense(total_words, activation='softmax'))\n",
    "\n",
    "# Compile the model\n",
    "model.compile(loss='categorical_crossentropy', optimizer='adam', metrics=['accuracy'])\n",
    "\n",
    "# Print model summary\n",
    "model.summary()\n",
    "\n",
    "# Train the model\n",
    "history = model.fit(X, y, epochs=30, verbose=1)\n",
    "\n"
   ]
  }
 ],
 "metadata": {
  "kernelspec": {
   "display_name": "Python 3 (ipykernel)",
   "language": "python",
   "name": "python3"
  },
  "language_info": {
   "codemirror_mode": {
    "name": "ipython",
    "version": 3
   },
   "file_extension": ".py",
   "mimetype": "text/x-python",
   "name": "python",
   "nbconvert_exporter": "python",
   "pygments_lexer": "ipython3",
   "version": "3.7.0"
  }
 },
 "nbformat": 4,
 "nbformat_minor": 5
}
