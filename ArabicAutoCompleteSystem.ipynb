{
 "cells": [
  {
   "cell_type": "markdown",
   "id": "7934554d",
   "metadata": {},
   "source": [
    "# Arabic Auto-Complete System"
   ]
  },
  {
   "cell_type": "markdown",
   "id": "4f0a520f",
   "metadata": {},
   "source": [
    "## Imports"
   ]
  },
  {
   "cell_type": "code",
   "execution_count": 1,
   "id": "d30b3283-8dc9-49c8-b4dd-e29414d96318",
   "metadata": {},
   "outputs": [],
   "source": [
    "import os  \n",
    "import re   \n",
    "from tensorflow.keras.preprocessing.text import Tokenizer\n",
    "from tensorflow.keras.preprocessing.sequence import pad_sequences\n",
    "from tensorflow.keras.utils import to_categorical\n",
    "import re\n",
    "import numpy as np"
   ]
  },
  {
   "cell_type": "markdown",
   "id": "7af9dd4f",
   "metadata": {},
   "source": [
    "## Text Cleaning Function"
   ]
  },
  {
   "cell_type": "code",
   "execution_count": 2,
   "id": "6562b5f0",
   "metadata": {},
   "outputs": [],
   "source": [
    "import re\n",
    "\n",
    "def clean_arabic_text(text):\n",
    "    # 1. Remove tashkeel including tatweel \n",
    "    text = re.sub(r'[ً-ْـ]', '', text)\n",
    "    \n",
    "    # 2. Remove punctuation and special characters (keeping Arabic letters, numbers, and basic punctuation)\n",
    "    text = re.sub(r'[^\\u0600-\\u06FF\\u0750-\\u077F\\u08A0-\\u08FF\\uFB50-\\uFDFF\\uFE70-\\uFEFF\\s٠-٩۰-۹.,،؛؟!]', ' ', text)\n",
    "\n",
    "    # 3. Normalize Arabic characters\n",
    "    text = re.sub(r'[آأإ]', 'ا', text)  \n",
    "    text = re.sub(r'ى', 'ي', text)     \n",
    "    text = re.sub(r'ة', 'ه', text)     \n",
    "\n",
    "    # 4. Remove English letters and Western digits\n",
    "    text = re.sub(r'[a-zA-Z]', '', text)\n",
    "    text = re.sub(r'[0-9]', '', text)\n",
    "\n",
    "    # 5. Normalize Arabic punctuation to standard ones\n",
    "    text = text.replace('؟', '?')  # Arabic question mark\n",
    "    text = text.replace('،', ',')  # Arabic comma\n",
    "    text = text.replace('؛', ';')  # Arabic semicolon\n",
    "\n",
    "    # 6. Remove extra spaces and newlines\n",
    "    text = re.sub(r'\\s+', ' ', text).strip()\n",
    "\n",
    "    # 7. Remove repeated characters \n",
    "    text = re.sub(r'(.)\\1+', r'\\1', text)\n",
    "\n",
    "    return text\n"
   ]
  },
  {
   "cell_type": "markdown",
   "id": "28953d05",
   "metadata": {},
   "source": [
    "## Data Loading and Cleaning"
   ]
  },
  {
   "cell_type": "code",
   "execution_count": 3,
   "id": "7b2a73fb",
   "metadata": {},
   "outputs": [],
   "source": [
    "file_names = ['file1.txt', 'file2.txt', 'file3.txt', 'file4.txt']  # data files\n",
    "all_clean_lines = []  \n",
    "\n",
    "for file in file_names:\n",
    "    with open(file, 'r', encoding='utf-8') as f:\n",
    "        lines = f.readlines()  \n",
    "        for line in lines:\n",
    "            if 'NULL' in line:\n",
    "                continue  # skip lines with the word NULL\n",
    "            clean_line = clean_arabic_text(line)\n",
    "            if clean_line:  # don't save empty lines\n",
    "                all_clean_lines.append(clean_line)\n"
   ]
  },
  {
   "cell_type": "markdown",
   "id": "0af70ef7",
   "metadata": {},
   "source": [
    "##  Save Cleaned Data\n"
   ]
  },
  {
   "cell_type": "code",
   "execution_count": 4,
   "id": "71f00a62",
   "metadata": {},
   "outputs": [],
   "source": [
    "with open('cleaned_data.txt', 'w', encoding='utf-8') as f:\n",
    "    for line in all_clean_lines:\n",
    "        f.write(line + '\\n')"
   ]
  },
  {
   "cell_type": "markdown",
   "id": "5f022440",
   "metadata": {},
   "source": [
    "## Read the data"
   ]
  },
  {
   "cell_type": "code",
   "execution_count": 5,
   "id": "bde223f6",
   "metadata": {},
   "outputs": [],
   "source": [
    "with open('cleaned_data.txt', 'r', encoding='utf-8') as file:\n",
    "    texts = file.readlines()"
   ]
  },
  {
   "cell_type": "markdown",
   "id": "0eb7b939",
   "metadata": {},
   "source": [
    "## Info about the data"
   ]
  },
  {
   "cell_type": "code",
   "execution_count": 6,
   "id": "9e58bb6d",
   "metadata": {},
   "outputs": [
    {
     "name": "stdout",
     "output_type": "stream",
     "text": [
      "Total texts: 8367\n",
      "Sample texts:\n",
      "1. اهنئ الدكتور احمد جمال الدين, القيادي بحزب مصر, بمناسبه صدور اولي روايه\n",
      "2. امير عيد هو الي فعلا يتقال عليه ستريكر صريح\n",
      "3. الصداقه تزرع الحياه ازهارا\n"
     ]
    }
   ],
   "source": [
    "print(f\"Total texts: {len(texts)}\")\n",
    "print(\"Sample texts:\")\n",
    "for i in range(3):\n",
    "    print(f\"{i+1}. {texts[i].strip()}\")"
   ]
  },
  {
   "cell_type": "markdown",
   "id": "3a41cbd7",
   "metadata": {},
   "source": [
    "## Tokenization and Sequence Preparation"
   ]
  },
  {
   "cell_type": "code",
   "execution_count": 7,
   "id": "428e39b3",
   "metadata": {},
   "outputs": [
    {
     "name": "stdout",
     "output_type": "stream",
     "text": [
      "\n",
      "Total unique words: 12415\n"
     ]
    }
   ],
   "source": [
    "tokenizer = Tokenizer()\n",
    "tokenizer.fit_on_texts(texts)\n",
    "total_words = len(tokenizer.word_index) + 1\n",
    "print(f\"\\nTotal unique words: {total_words}\")\n",
    "input_sequences = []\n",
    "for text in texts:\n",
    "    token_list = tokenizer.texts_to_sequences([text])[0]\n",
    "    for i in range(1, len(token_list)):\n",
    "        n_gram_sequence = token_list[:i+1]\n",
    "        input_sequences.append(n_gram_sequence)"
   ]
  },
  {
   "cell_type": "markdown",
   "id": "8119d9c4",
   "metadata": {},
   "source": [
    "## Padding Sequences"
   ]
  },
  {
   "cell_type": "code",
   "execution_count": 8,
   "id": "046419f7",
   "metadata": {},
   "outputs": [
    {
     "name": "stdout",
     "output_type": "stream",
     "text": [
      "\n",
      "Sample padded sequences:\n",
      "[[   0    0    0    0    0    0    0    0    0    0    0    0    0    0\n",
      "     0    0    0    0    0    0    0    0    0    0    0    0    0    0\n",
      "     0    0    0    0    0    0    0    0    0    0    0    0 4112  471]\n",
      " [   0    0    0    0    0    0    0    0    0    0    0    0    0    0\n",
      "     0    0    0    0    0    0    0    0    0    0    0    0    0    0\n",
      "     0    0    0    0    0    0    0    0    0    0    0 4112  471  692]\n",
      " [   0    0    0    0    0    0    0    0    0    0    0    0    0    0\n",
      "     0    0    0    0    0    0    0    0    0    0    0    0    0    0\n",
      "     0    0    0    0    0    0    0    0    0    0 4112  471  692  306]]\n"
     ]
    }
   ],
   "source": [
    "max_sequence_len = max([len(seq) for seq in input_sequences])\n",
    "input_sequences = pad_sequences(input_sequences, maxlen=max_sequence_len, padding='pre')\n",
    "print(\"\\nSample padded sequences:\")\n",
    "print(input_sequences[:3])\n"
   ]
  },
  {
   "cell_type": "markdown",
   "id": "b667f989",
   "metadata": {},
   "source": [
    "## Split Features (X) and Labels (y)"
   ]
  },
  {
   "cell_type": "code",
   "execution_count": 9,
   "id": "945056ca",
   "metadata": {},
   "outputs": [],
   "source": [
    "X = input_sequences[:, :-1]\n",
    "y = input_sequences[:, -1]\n",
    "y = to_categorical(y, num_classes=total_words)\n"
   ]
  },
  {
   "cell_type": "markdown",
   "id": "51168625",
   "metadata": {},
   "source": [
    "##  Build and Train the Model"
   ]
  },
  {
   "cell_type": "code",
   "execution_count": 11,
   "id": "4a8c4a71",
   "metadata": {
    "scrolled": false
   },
   "outputs": [
    {
     "name": "stdout",
     "output_type": "stream",
     "text": [
      "Model: \"sequential_1\"\n",
      "_________________________________________________________________\n",
      "Layer (type)                 Output Shape              Param #   \n",
      "=================================================================\n",
      "embedding_1 (Embedding)      (None, 41, 64)            794560    \n",
      "_________________________________________________________________\n",
      "lstm_1 (LSTM)                (None, 41, 128)           98816     \n",
      "_________________________________________________________________\n",
      "lstm_2 (LSTM)                (None, 128)               131584    \n",
      "_________________________________________________________________\n",
      "dense_1 (Dense)              (None, 12415)             1601535   \n",
      "=================================================================\n",
      "Total params: 2,626,495\n",
      "Trainable params: 2,626,495\n",
      "Non-trainable params: 0\n",
      "_________________________________________________________________\n",
      "Epoch 1/10\n",
      "703/703 [==============================] - 234s 317ms/step - loss: 8.6112 - accuracy: 0.0293\n",
      "Epoch 2/10\n",
      "703/703 [==============================] - 227s 323ms/step - loss: 7.9436 - accuracy: 0.0299\n",
      "Epoch 3/10\n",
      "703/703 [==============================] - 225s 320ms/step - loss: 7.7666 - accuracy: 0.0315\n",
      "Epoch 4/10\n",
      "703/703 [==============================] - 203s 288ms/step - loss: 7.6345 - accuracy: 0.0335\n",
      "Epoch 5/10\n",
      "703/703 [==============================] - 185s 264ms/step - loss: 7.4862 - accuracy: 0.0347\n",
      "Epoch 6/10\n",
      "703/703 [==============================] - 171s 244ms/step - loss: 7.3058 - accuracy: 0.0375\n",
      "Epoch 7/10\n",
      "703/703 [==============================] - 154s 219ms/step - loss: 7.0949 - accuracy: 0.0393\n",
      "Epoch 8/10\n",
      "703/703 [==============================] - 173s 246ms/step - loss: 6.8771 - accuracy: 0.0432\n",
      "Epoch 9/10\n",
      "703/703 [==============================] - 198s 281ms/step - loss: 6.6599 - accuracy: 0.0494\n",
      "Epoch 10/10\n",
      "703/703 [==============================] - 174s 247ms/step - loss: 6.4348 - accuracy: 0.0598\n"
     ]
    }
   ],
   "source": [
    "from tensorflow.keras.models import Sequential\n",
    "from tensorflow.keras.layers import Embedding, LSTM, Dense\n",
    "from tensorflow.keras.optimizers import Adam\n",
    "\n",
    "# Build the model\n",
    "model = Sequential()\n",
    "model.add(Embedding(input_dim=total_words, output_dim=64, input_length=max_sequence_len - 1))\n",
    "model.add(LSTM(128, return_sequences=True))\n",
    "model.add(LSTM(128))\n",
    "model.add(Dense(total_words, activation='softmax'))\n",
    "\n",
    "# Compile the model\n",
    "model.compile(loss='categorical_crossentropy', optimizer='adam', metrics=['accuracy'])\n",
    "\n",
    "# Print model summary\n",
    "model.summary()\n",
    "\n",
    "# Train the model\n",
    "history = model.fit(X, y, epochs=10, verbose=1)\n",
    "\n"
   ]
  },
  {
   "cell_type": "markdown",
   "id": "547b9efd",
   "metadata": {},
   "source": [
    "##  Predection Function"
   ]
  },
  {
   "cell_type": "code",
   "execution_count": 13,
   "id": "c32099ee-7f5b-4aff-82b7-8cd80a05a5b2",
   "metadata": {},
   "outputs": [
    {
     "name": "stdout",
     "output_type": "stream",
     "text": [
      "النص الناتج: دي دي بتكون في و في و في و في\n"
     ]
    }
   ],
   "source": [
    "def predict_sequence(model, tokenizer, start_word, next_words, max_len):\n",
    "    result = start_word\n",
    "    for _ in range(next_words):\n",
    "        token_list = tokenizer.texts_to_sequences([result])[0]\n",
    "        token_list = pad_sequences([token_list], maxlen=max_len-1, padding='pre')\n",
    "        predicted = np.argmax(model.predict(token_list, verbose=0), axis=-1)[0]\n",
    "        for word, index in tokenizer.word_index.items():\n",
    "            if index == predicted:\n",
    "                result += \" \" + word\n",
    "                break\n",
    "    return result\n",
    "\n",
    "# Try an example\n",
    "start_word = \"دي\"\n",
    "next_words = 9\n",
    "generated_text = predict_sequence(model, tokenizer, start_word, next_words, max_sequence_len)\n",
    "print(\"النص الناتج:\", generated_text)"
   ]
  },
  {
   "cell_type": "markdown",
   "id": "58227beb",
   "metadata": {},
   "source": [
    "##  Arabic Complete system's GUI"
   ]
  },
  {
   "cell_type": "code",
   "execution_count": null,
   "id": "72d61413",
   "metadata": {},
   "outputs": [],
   "source": [
    "import tkinter as tk\n",
    "from tkinter import ttk, scrolledtext\n",
    "import numpy as np\n",
    "from PIL import Image, ImageTk\n",
    "import os\n",
    "import re\n",
    "from tensorflow.keras.preprocessing.sequence import pad_sequences  \n",
    "\n",
    "PRIMARY_COLOR = \"#2196F3\"\n",
    "SECONDARY_COLOR = \"#FFC107\"\n",
    "BG_COLOR = \"#F5F5F5\"\n",
    "TEXT_COLOR = \"#212121\"\n",
    "ACCENT_COLOR = \"#E3F2FD\"\n",
    "\n",
    "HEADER_FONT = (\"Segoe UI\", 24, \"bold\")\n",
    "LABEL_FONT = (\"Segoe UI\", 12)\n",
    "BUTTON_FONT = (\"Segoe UI\", 12, \"bold\")\n",
    "TEXT_FONT = (\"Segoe UI\", 12)\n",
    "\n",
    "class ArabicAutocompleteGUI:\n",
    "    def __init__(self, root):\n",
    "        self.root = root\n",
    "      \n",
    "        \n",
    "        self.root.title(\"نظام الإكمال التلقائي للغة العربية\")\n",
    "        self.root.geometry(\"800x600\")\n",
    "        self.root.configure(bg=BG_COLOR)\n",
    "        \n",
    "        self.main_frame = tk.Frame(self.root, bg=BG_COLOR)\n",
    "        self.main_frame.pack(fill=tk.BOTH, expand=True, padx=20, pady=20)\n",
    "        \n",
    "        self.setup_ui()\n",
    "        \n",
    "    def setup_ui(self):\n",
    "        header_frame = tk.Frame(self.main_frame, bg=PRIMARY_COLOR, height=60)\n",
    "        header_frame.pack(fill=tk.X, pady=(0, 20))\n",
    "        \n",
    "        header_label = tk.Label(\n",
    "            header_frame, \n",
    "            text=\"نظام الإكمال التلقائي للغة العربية\", \n",
    "            font=HEADER_FONT, \n",
    "            bg=PRIMARY_COLOR, \n",
    "            fg=\"white\",\n",
    "            pady=10\n",
    "        )\n",
    "        header_label.pack()\n",
    "        \n",
    "        input_frame = tk.Frame(self.main_frame, bg=BG_COLOR)\n",
    "        input_frame.pack(fill=tk.X, pady=10)\n",
    "\n",
    "        input_label = tk.Label(\n",
    "            input_frame, \n",
    "            text=\"أدخل النص:\", \n",
    "            font=LABEL_FONT, \n",
    "            bg=BG_COLOR, \n",
    "            fg=TEXT_COLOR,\n",
    "            anchor=\"e\"\n",
    "        )\n",
    "        input_label.pack(anchor=\"e\", padx=5, pady=5)\n",
    "\n",
    "        self.input_text = tk.Entry(\n",
    "            input_frame, \n",
    "            font=TEXT_FONT, \n",
    "            bg=\"white\", \n",
    "            fg=TEXT_COLOR,\n",
    "            bd=1,\n",
    "            relief=tk.SOLID,\n",
    "            justify=\"right\"\n",
    "        )\n",
    "        self.input_text.pack(fill=tk.X, padx=10, pady=5, ipadx=15, ipady=8)\n",
    "        \n",
    "        options_frame = tk.Frame(self.main_frame, bg=BG_COLOR)\n",
    "        options_frame.pack(fill=tk.X, pady=10)\n",
    "        \n",
    "        words_label = tk.Label(\n",
    "            options_frame, \n",
    "            text=\"عدد الكلمات للتنبؤ:\", \n",
    "            font=LABEL_FONT, \n",
    "            bg=BG_COLOR, \n",
    "            fg=TEXT_COLOR\n",
    "        )\n",
    "        words_label.pack(side=tk.RIGHT, padx=5)\n",
    "        \n",
    "        self.words_var = tk.StringVar(value=\"5\")\n",
    "        words_spinner = tk.Spinbox(\n",
    "            options_frame, \n",
    "            from_=1, \n",
    "            to=10, \n",
    "            textvariable=self.words_var,\n",
    "            width=5,\n",
    "            font=TEXT_FONT\n",
    "        )\n",
    "        words_spinner.pack(side=tk.RIGHT, padx=5)\n",
    "        \n",
    "        generate_button = tk.Button(\n",
    "            options_frame, \n",
    "            text=\"توليد النص\", \n",
    "            font=BUTTON_FONT, \n",
    "            bg=SECONDARY_COLOR, \n",
    "            fg=TEXT_COLOR,\n",
    "            padx=15,\n",
    "            pady=5,\n",
    "            relief=tk.RAISED,\n",
    "            command=self.generate_text\n",
    "        )\n",
    "        generate_button.pack(side=tk.LEFT, padx=5)\n",
    "        \n",
    "        clear_button = tk.Button(\n",
    "            options_frame, \n",
    "            text=\"مسح\", \n",
    "            font=BUTTON_FONT, \n",
    "            bg=PRIMARY_COLOR, \n",
    "            fg=\"white\",\n",
    "            padx=15,\n",
    "            pady=5,\n",
    "            relief=tk.RAISED,\n",
    "            command=self.clear_text\n",
    "        )\n",
    "        clear_button.pack(side=tk.LEFT, padx=5)\n",
    "        \n",
    "        results_frame = tk.Frame(self.main_frame, bg=ACCENT_COLOR, bd=1, relief=tk.SOLID)\n",
    "        results_frame.pack(fill=tk.BOTH, expand=True, pady=10)\n",
    "        \n",
    "        results_label = tk.Label(\n",
    "            results_frame, \n",
    "            text=\"النص الناتج:\", \n",
    "            font=LABEL_FONT, \n",
    "            bg=ACCENT_COLOR, \n",
    "            fg=TEXT_COLOR,\n",
    "            anchor=\"e\"\n",
    "        )\n",
    "        results_label.pack(anchor=\"e\", padx=10, pady=5)\n",
    "        \n",
    "        self.results_text = scrolledtext.ScrolledText(\n",
    "            results_frame, \n",
    "            font=TEXT_FONT, \n",
    "            bg=\"white\", \n",
    "            fg=TEXT_COLOR,\n",
    "            wrap=tk.WORD,\n",
    "            height=10\n",
    "        )\n",
    "        self.results_text.pack(fill=tk.BOTH, expand=True, padx=10, pady=(0, 10))\n",
    "        self.results_text.tag_configure(\"rtl\", justify=\"right\")\n",
    "        \n",
    "    def generate_text(self):\n",
    "        start_word = self.input_text.get().strip()\n",
    "        if not start_word:\n",
    "            return\n",
    "        \n",
    "        try:\n",
    "            next_words = int(self.words_var.get())\n",
    "            if next_words < 1:\n",
    "                next_words = 1\n",
    "            elif next_words > 20:\n",
    "                next_words = 20\n",
    "        except ValueError:\n",
    "            next_words = 5\n",
    "            self.words_var.set(\"5\")\n",
    "        \n",
    "        try:\n",
    "            generated_text = predict_sequence(model, tokenizer, start_word, next_words, max_sequence_len)\n",
    "            self.results_text.delete(1.0, tk.END)\n",
    "            self.results_text.insert(tk.END, generated_text, \"rtl\")\n",
    "        except Exception as e:\n",
    "            print(\"Error:\", e)  \n",
    "    \n",
    "    def clear_text(self):\n",
    "        self.input_text.delete(0, tk.END)\n",
    "        self.results_text.delete(1.0, tk.END)\n",
    "    \n",
    "    \n",
    "\n",
    "\n",
    "root = tk.Tk()\n",
    "app = ArabicAutocompleteGUI(root)\n",
    "root.mainloop()"
   ]
  },
  {
   "cell_type": "code",
   "execution_count": null,
   "id": "afa1c776",
   "metadata": {},
   "outputs": [],
   "source": []
  }
 ],
 "metadata": {
  "kernelspec": {
   "display_name": "Python 3 (ipykernel)",
   "language": "python",
   "name": "python3"
  },
  "language_info": {
   "codemirror_mode": {
    "name": "ipython",
    "version": 3
   },
   "file_extension": ".py",
   "mimetype": "text/x-python",
   "name": "python",
   "nbconvert_exporter": "python",
   "pygments_lexer": "ipython3",
   "version": "3.7.0"
  }
 },
 "nbformat": 4,
 "nbformat_minor": 5
}
