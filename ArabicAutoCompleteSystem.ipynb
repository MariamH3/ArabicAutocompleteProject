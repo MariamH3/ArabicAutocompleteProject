{
 "cells": [
  {
   "cell_type": "markdown",
   "id": "7934554d",
   "metadata": {},
   "source": [
    "# Arabic Auto-Complete System"
   ]
  },
  {
   "cell_type": "markdown",
   "id": "4f0a520f",
   "metadata": {},
   "source": [
    "## Imports"
   ]
  },
  {
   "cell_type": "code",
   "execution_count": 47,
   "id": "14698e34",
   "metadata": {},
   "outputs": [],
   "source": [
    "import os  \n",
    "import re   \n",
    "from tensorflow.keras.preprocessing.text import Tokenizer\n",
    "from tensorflow.keras.preprocessing.sequence import pad_sequences\n",
    "from tensorflow.keras.utils import to_categorical\n",
    "import re"
   ]
  },
  {
   "cell_type": "markdown",
   "id": "7af9dd4f",
   "metadata": {},
   "source": [
    "## Text Cleaning Function"
   ]
  },
  {
   "cell_type": "code",
   "execution_count": 48,
   "id": "6562b5f0",
   "metadata": {},
   "outputs": [],
   "source": [
    "import re\n",
    "\n",
    "def clean_arabic_text(text):\n",
    "    # 1. Remove tashkeel including tatweel \n",
    "    text = re.sub(r'[ً-ْـ]', '', text)\n",
    "    \n",
    "    # 2. Remove punctuation and special characters (keeping Arabic letters, numbers, and basic punctuation)\n",
    "    text = re.sub(r'[^\\u0600-\\u06FF\\u0750-\\u077F\\u08A0-\\u08FF\\uFB50-\\uFDFF\\uFE70-\\uFEFF\\s٠-٩۰-۹.,،؛؟!]', ' ', text)\n",
    "\n",
    "    # 3. Normalize Arabic characters\n",
    "    text = re.sub(r'[آأإ]', 'ا', text)  \n",
    "    text = re.sub(r'ى', 'ي', text)     \n",
    "    text = re.sub(r'ة', 'ه', text)     \n",
    "\n",
    "    # 4. Remove English letters and Western digits\n",
    "    text = re.sub(r'[a-zA-Z]', '', text)\n",
    "    text = re.sub(r'[0-9]', '', text)\n",
    "\n",
    "    # 5. Normalize Arabic punctuation to standard ones\n",
    "    text = text.replace('؟', '?')  # Arabic question mark\n",
    "    text = text.replace('،', ',')  # Arabic comma\n",
    "    text = text.replace('؛', ';')  # Arabic semicolon\n",
    "\n",
    "    # 6. Remove extra spaces and newlines\n",
    "    text = re.sub(r'\\s+', ' ', text).strip()\n",
    "\n",
    "    # 7. Remove repeated characters \n",
    "    text = re.sub(r'(.)\\1+', r'\\1', text)\n",
    "\n",
    "    return text\n"
   ]
  },
  {
   "cell_type": "markdown",
   "id": "28953d05",
   "metadata": {},
   "source": [
    "## Data Loading and Cleaning"
   ]
  },
  {
   "cell_type": "code",
   "execution_count": 49,
   "id": "7b2a73fb",
   "metadata": {},
   "outputs": [],
   "source": [
    "file_names = ['file1.txt', 'file2.txt', 'file3.txt', 'file4.txt']  # data files\n",
    "all_clean_lines = []  \n",
    "\n",
    "for file in file_names:\n",
    "    with open(file, 'r', encoding='utf-8') as f:\n",
    "        lines = f.readlines()  \n",
    "        for line in lines:\n",
    "            if 'NULL' in line:\n",
    "                continue  # skip lines with the word NULL\n",
    "            clean_line = clean_arabic_text(line)\n",
    "            if clean_line:  # don't save empty lines\n",
    "                all_clean_lines.append(clean_line)\n"
   ]
  },
  {
   "cell_type": "markdown",
   "id": "0af70ef7",
   "metadata": {},
   "source": [
    "##  Save Cleaned Data\n"
   ]
  },
  {
   "cell_type": "code",
   "execution_count": 50,
   "id": "71f00a62",
   "metadata": {},
   "outputs": [],
   "source": [
    "with open('cleaned_data.txt', 'w', encoding='utf-8') as f:\n",
    "    for line in all_clean_lines:\n",
    "        f.write(line + '\\n')"
   ]
  },
  {
   "cell_type": "markdown",
   "id": "5f022440",
   "metadata": {},
   "source": [
    "## Read the data"
   ]
  },
  {
   "cell_type": "code",
   "execution_count": 51,
   "id": "bde223f6",
   "metadata": {},
   "outputs": [],
   "source": [
    "with open('cleaned_data.txt', 'r', encoding='utf-8') as file:\n",
    "    texts = file.readlines()"
   ]
  },
  {
   "cell_type": "markdown",
   "id": "0eb7b939",
   "metadata": {},
   "source": [
    "## Info about the data"
   ]
  },
  {
   "cell_type": "code",
   "execution_count": 52,
   "id": "9e58bb6d",
   "metadata": {},
   "outputs": [
    {
     "name": "stdout",
     "output_type": "stream",
     "text": [
      "Total texts: 7904\n",
      "Sample texts:\n",
      "1. اهنئ الدكتور احمد جمال الدين, القيادي بحزب مصر, بمناسبه صدور اولي روايه\n",
      "2. امير عيد هو الي فعلا يتقال عليه ستريكر صريح\n",
      "3. الصداقه تزرع الحياه ازهارا\n"
     ]
    }
   ],
   "source": [
    "print(f\"Total texts: {len(texts)}\")\n",
    "print(\"Sample texts:\")\n",
    "for i in range(3):\n",
    "    print(f\"{i+1}. {texts[i].strip()}\")"
   ]
  },
  {
   "cell_type": "markdown",
   "id": "3a41cbd7",
   "metadata": {},
   "source": [
    "## Tokenization and Sequence Preparation"
   ]
  },
  {
   "cell_type": "code",
   "execution_count": 53,
   "id": "428e39b3",
   "metadata": {},
   "outputs": [
    {
     "name": "stdout",
     "output_type": "stream",
     "text": [
      "\n",
      "Total unique words: 7868\n"
     ]
    }
   ],
   "source": [
    "tokenizer = Tokenizer()\n",
    "tokenizer.fit_on_texts(texts)\n",
    "total_words = len(tokenizer.word_index) + 1\n",
    "print(f\"\\nTotal unique words: {total_words}\")\n",
    "input_sequences = []\n",
    "for text in texts:\n",
    "    token_list = tokenizer.texts_to_sequences([text])[0]\n",
    "    for i in range(1, len(token_list)):\n",
    "        n_gram_sequence = token_list[:i+1]\n",
    "        input_sequences.append(n_gram_sequence)"
   ]
  },
  {
   "cell_type": "markdown",
   "id": "8119d9c4",
   "metadata": {},
   "source": [
    "## Padding Sequences"
   ]
  },
  {
   "cell_type": "code",
   "execution_count": 54,
   "id": "046419f7",
   "metadata": {},
   "outputs": [
    {
     "name": "stdout",
     "output_type": "stream",
     "text": [
      "\n",
      "Sample padded sequences:\n",
      "[[   0    0    0    0    0    0    0    0    0    0    0    0    0    0\n",
      "     0    0    0    0    0    0    0    0    0    0    0    0    0    0\n",
      "     0    0    0    0    0    0    0    0    0    0    0    0 3117  378]\n",
      " [   0    0    0    0    0    0    0    0    0    0    0    0    0    0\n",
      "     0    0    0    0    0    0    0    0    0    0    0    0    0    0\n",
      "     0    0    0    0    0    0    0    0    0    0    0 3117  378  547]\n",
      " [   0    0    0    0    0    0    0    0    0    0    0    0    0    0\n",
      "     0    0    0    0    0    0    0    0    0    0    0    0    0    0\n",
      "     0    0    0    0    0    0    0    0    0    0 3117  378  547  255]]\n"
     ]
    }
   ],
   "source": [
    "max_sequence_len = max([len(seq) for seq in input_sequences])\n",
    "input_sequences = pad_sequences(input_sequences, maxlen=max_sequence_len, padding='pre')\n",
    "print(\"\\nSample padded sequences:\")\n",
    "print(input_sequences[:3])\n"
   ]
  },
  {
   "cell_type": "markdown",
   "id": "b667f989",
   "metadata": {},
   "source": [
    "## Split Features (X) and Labels (y)"
   ]
  },
  {
   "cell_type": "code",
   "execution_count": 55,
   "id": "945056ca",
   "metadata": {},
   "outputs": [],
   "source": [
    "X = input_sequences[:, :-1]\n",
    "y = input_sequences[:, -1]\n",
    "y = to_categorical(y, num_classes=total_words)\n"
   ]
  }
 ],
 "metadata": {
  "kernelspec": {
   "display_name": "Python 3",
   "language": "python",
   "name": "python3"
  },
  "language_info": {
   "codemirror_mode": {
    "name": "ipython",
    "version": 3
   },
   "file_extension": ".py",
   "mimetype": "text/x-python",
   "name": "python",
   "nbconvert_exporter": "python",
   "pygments_lexer": "ipython3",
   "version": "3.12.2"
  }
 },
 "nbformat": 4,
 "nbformat_minor": 5
}
