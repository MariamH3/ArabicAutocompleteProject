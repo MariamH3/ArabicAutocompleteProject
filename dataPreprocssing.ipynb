{
 "cells": [
  {
   "cell_type": "code",
   "execution_count": 1,
   "id": "14698e34",
   "metadata": {},
   "outputs": [],
   "source": [
    "import os   # to access files and folders\n",
    "import re   # to clean the text using patterns (like removing unwanted characters)\n"
   ]
  },
  {
   "cell_type": "code",
   "execution_count": 2,
   "id": "6562b5f0",
   "metadata": {},
   "outputs": [],
   "source": [
    "def clean_text(text):\n",
    "    # Remove anything that's NOT Arabic letters or spaces\n",
    "    text = re.sub(r'[^\\u0600-\\u06FF\\s]', '', text)\n",
    "\n",
    "    # Remove extra spaces (like double or triple spaces)\n",
    "    text = re.sub(r'\\s+', ' ', text).strip()\n",
    "\n",
    "    return text\n"
   ]
  },
  {
   "cell_type": "code",
   "execution_count": 3,
   "id": "bd6d684f",
   "metadata": {},
   "outputs": [],
   "source": [
    "file_names = ['file1.txt', 'file2.txt', 'file3.txt', 'file4.txt']  # data files"
   ]
  },
  {
   "cell_type": "code",
   "execution_count": 4,
   "id": "7b2a73fb",
   "metadata": {},
   "outputs": [],
   "source": [
    "all_clean_lines = []  # this will hold all cleaned lines\n",
    "\n",
    "for file in file_names:\n",
    "    with open(file, 'r', encoding='utf-8') as f:\n",
    "        lines = f.readlines()  # read all lines in the file\n",
    "\n",
    "        for line in lines:\n",
    "            if 'NULL' in line:\n",
    "                continue  # skip lines with the word NULL\n",
    "\n",
    "            clean_line = clean_text(line)\n",
    "            if clean_line:  # don't save empty lines\n",
    "                all_clean_lines.append(clean_line)\n"
   ]
  },
  {
   "cell_type": "code",
   "execution_count": 5,
   "id": "71f00a62",
   "metadata": {},
   "outputs": [],
   "source": [
    "with open('cleaned_data.txt', 'w', encoding='utf-8') as f:\n",
    "    for line in all_clean_lines:\n",
    "        f.write(line + '\\n')\n"
   ]
  },
  {
   "cell_type": "code",
   "execution_count": null,
   "id": "0b50fc86",
   "metadata": {},
   "outputs": [],
   "source": []
  }
 ],
 "metadata": {
  "kernelspec": {
   "display_name": "Python 3 (ipykernel)",
   "language": "python",
   "name": "python3"
  },
  "language_info": {
   "codemirror_mode": {
    "name": "ipython",
    "version": 3
   },
   "file_extension": ".py",
   "mimetype": "text/x-python",
   "name": "python",
   "nbconvert_exporter": "python",
   "pygments_lexer": "ipython3",
   "version": "3.7.0"
  }
 },
 "nbformat": 4,
 "nbformat_minor": 5
}
